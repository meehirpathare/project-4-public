{
 "cells": [
  {
   "cell_type": "markdown",
   "metadata": {},
   "source": [
    "## Follows notebook from [Alberto Maria Falletta on Kaggle](https://www.kaggle.com/albeffe/text-clustering-tfidf-pca-beginner-tutorial)"
   ]
  },
  {
   "cell_type": "code",
   "execution_count": 1,
   "metadata": {},
   "outputs": [],
   "source": [
    "import csv\n",
    "import os\n",
    "import re\n",
    "import string\n",
    "import numpy as np\n",
    "import pandas as pd\n",
    "import matplotlib.pyplot as plt\n",
    "from wordcloud import WordCloud\n",
    "from mlxtend.frequent_patterns import fpgrowth\n",
    "from nltk.tokenize import word_tokenize\n",
    "from nltk.stem.wordnet import WordNetLemmatizer\n",
    "from sklearn.cluster import KMeans\n",
    "from sklearn.metrics import silhouette_score\n",
    "from sklearn.decomposition import TruncatedSVD\n",
    "from sklearn.feature_extraction.text import TfidfVectorizer\n",
    "\n",
    "import json"
   ]
  },
  {
   "cell_type": "code",
   "execution_count": 2,
   "metadata": {},
   "outputs": [],
   "source": [
    "data_path = 'C:\\\\Users\\\\Meehir\\\\Documents\\\\GitHub\\\\project-4-public\\\\data\\\\'"
   ]
  },
  {
   "cell_type": "markdown",
   "metadata": {},
   "source": [
    "#### **Get corpus**"
   ]
  },
  {
   "cell_type": "code",
   "execution_count": 3,
   "metadata": {},
   "outputs": [],
   "source": [
    "with open(data_path + 'json_files\\\\combined_2000.json', 'r', encoding='utf-8') as f:\n",
    "    data = json.load(f)\n",
    "\n",
    "comms = []\n",
    "\n",
    "for thread in data:\n",
    "    for comment in thread['comments']:\n",
    "        comms.append(comment['comment'])\n",
    "        \n",
    "corpus = comms"
   ]
  },
  {
   "cell_type": "markdown",
   "metadata": {},
   "source": [
    "#### **Get stop words**"
   ]
  },
  {
   "cell_type": "code",
   "execution_count": 4,
   "metadata": {},
   "outputs": [],
   "source": [
    "with open(data_path + \"csv_files\\\\my_stop_words.csv\") as f:\n",
    "        reader = csv.reader(f)\n",
    "        data = list(reader)\n",
    "        \n",
    "flattened_list = [y for x in data for y in x]\n",
    "my_stop_words = set(flattened_list)"
   ]
  },
  {
   "cell_type": "code",
   "execution_count": 5,
   "metadata": {},
   "outputs": [],
   "source": [
    "class LemmaTokenizer(object):\n",
    "\n",
    "    def __init__(self):\n",
    "        self.lemmatizer = WordNetLemmatizer()\n",
    "\n",
    "    def __call__(self, document):\n",
    "        lemmas = []\n",
    "        \n",
    "        # Pre-proccessing of one document at the time\n",
    "        \n",
    "        # Removing puntuation\n",
    "        translator_1 = str.maketrans(string.punctuation, ' ' * len(string.punctuation))\n",
    "        document = document.translate(translator_1)\n",
    "\n",
    "        # Removing numbers\n",
    "        document = re.sub(r'\\d+', ' ', document)\n",
    "\n",
    "        # Removing special characters\n",
    "        document = re.sub(r\"[^a-zA-Z0-9]+\", ' ', document)\n",
    "\n",
    "        # The document is a string up to now, after word_tokenize(document) we'll work on every word one at the time\n",
    "        for token in word_tokenize(document):\n",
    "            \n",
    "            # Removing spaces\n",
    "            token = token.strip()\n",
    "            \n",
    "            # Lemmatizing\n",
    "            token = self.lemmatizer.lemmatize(token)\n",
    "            \n",
    "            # Removing stopwords\n",
    "            if token not in stopwords and len(token) > 2:\n",
    "                lemmas.append(token)\n",
    "        return lemmas"
   ]
  },
  {
   "cell_type": "code",
   "execution_count": 6,
   "metadata": {},
   "outputs": [],
   "source": [
    "def __init__(self):\n",
    "    self.lemmatizer = WordNetLemmatizer()\n",
    "\n",
    "def __call__(self, document):\n",
    "    lemmas = []\n",
    "\n",
    "    # Pre-proccessing of one document at the time\n",
    "\n",
    "    # Removing puntuation\n",
    "    translator_1 = str.maketrans(string.punctuation, ' ' * len(string.punctuation))\n",
    "    document = document.translate(translator_1)\n",
    "\n",
    "    # Removing numbers\n",
    "    document = re.sub(r'\\d+', ' ', document)\n",
    "\n",
    "    # Removing special characters\n",
    "    document = re.sub(r\"[^a-zA-Z0-9]+\", ' ', document)\n",
    "\n",
    "    # The document is a string up to now, after word_tokenize(document) we'll work on every word one at the time\n",
    "    for token in word_tokenize(document):\n",
    "\n",
    "        # Removing spaces\n",
    "        token = token.strip()\n",
    "\n",
    "        # Lemmatizing\n",
    "        token = self.lemmatizer.lemmatize(token)\n",
    "\n",
    "        # Removing stopwords\n",
    "        if token not in stopwords and len(token) > 2:\n",
    "            lemmas.append(token)\n",
    "    return lemmas"
   ]
  },
  {
   "cell_type": "code",
   "execution_count": 7,
   "metadata": {},
   "outputs": [],
   "source": [
    "def generate_wordclouds(X, in_X_tfidf, k, in_word_positions):\n",
    "\n",
    "    # Clustering\n",
    "    in_model = KMeans(n_clusters=k, random_state=42, n_jobs=-1)\n",
    "    in_y_pred = in_model.fit_predict(X)\n",
    "    in_cluster_ids = set(in_y_pred)\n",
    "    silhouette_avg = silhouette_score(X, in_y_pred)\n",
    "    print(\"For n_clusters =\", k, \"The average silhouette_score is :\", silhouette_avg)\n",
    "\n",
    "    # Number of words with highest tfidf score to display\n",
    "    top_count = 100\n",
    "\n",
    "    for in_cluster_id in in_cluster_ids:\n",
    "        # compute the total tfidf for each term in the cluster\n",
    "        in_tfidf = in_X_tfidf[in_y_pred == in_cluster_id]\n",
    "        # numpy.matrix\n",
    "        tfidf_sum = np.sum(in_tfidf, axis=0)\n",
    "        # numpy.array of shape (1, X.shape[1])\n",
    "        tfidf_sum = np.asarray(tfidf_sum).reshape(-1)\n",
    "        top_indices = tfidf_sum.argsort()[-top_count:]\n",
    "        term_weights = {in_word_positions[in_idx]: tfidf_sum[in_idx] for in_idx in top_indices}\n",
    "        wc = WordCloud(width=1200, height=800, background_color=\"white\")\n",
    "        wordcloud = wc.generate_from_frequencies(term_weights)\n",
    "        fig, ax = plt.subplots(figsize=(10, 6), dpi=100)\n",
    "        ax.imshow(wordcloud, interpolation='bilinear')\n",
    "        ax.axis(\"off\")\n",
    "        fig.suptitle(f\"Cluster {in_cluster_id}\")\n",
    "        plt.show()\n",
    "\n",
    "    return in_cluster_ids\n",
    "\n",
    "\n",
    "def custom_import_stopwords(filename):\n",
    "    in_stopword_list = []\n",
    "    in_flag = 0\n",
    "    in_word_cnt = 0\n",
    "\n",
    "    with open(filename, encoding=\"utf8\") as f:\n",
    "        for row in csv.reader(f):\n",
    "            if in_flag == 0:\n",
    "                in_flag = 1\n",
    "            else:\n",
    "                in_stopword_list.append(row[0])\n",
    "                in_word_cnt += 1\n",
    "\n",
    "    print(f\"{in_word_cnt} stopwords imported\")\n",
    "    return in_stopword_list"
   ]
  },
  {
   "cell_type": "code",
   "execution_count": null,
   "metadata": {},
   "outputs": [
    {
     "name": "stdout",
     "output_type": "stream",
     "text": [
      "Generating TFIDF sparse matrix...\n"
     ]
    }
   ],
   "source": [
    "stopwords = my_stop_words\n",
    "# Custom tokenizer for tfidf representation\n",
    "vectorizer = TfidfVectorizer(input=corpus, tokenizer=LemmaTokenizer())\n",
    "\n",
    "# Here we need the correct path in order to give it to the vectorizer\n",
    "print(\"Generating TFIDF sparse matrix...\")\n",
    "X_tfidf = vectorizer.fit_transform(corpus)"
   ]
  },
  {
   "cell_type": "code",
   "execution_count": null,
   "metadata": {},
   "outputs": [],
   "source": [
    "# Dimensionality reduction\n",
    "svd = TruncatedSVD(n_components=30, random_state=42)\n",
    "X_svd = svd.fit_transform(X_tfidf)\n",
    "print(f\"Total variance explained: {np.sum(svd.explained_variance_ratio_):.2f}\")\n",
    "# The variance explained is quite low for real applications. We will investigate it later.\n"
   ]
  },
  {
   "cell_type": "code",
   "execution_count": null,
   "metadata": {},
   "outputs": [],
   "source": [
    "word_positions = {v: k for k, v in vectorizer.vocabulary_.items()}"
   ]
  },
  {
   "cell_type": "code",
   "execution_count": null,
   "metadata": {},
   "outputs": [],
   "source": [
    "# using 7 clusters as determined by elbow method\n",
    "cluster_ids = generate_wordclouds(X_svd, X_tfidf, 7, word_positions)"
   ]
  },
  {
   "cell_type": "code",
   "execution_count": null,
   "metadata": {},
   "outputs": [],
   "source": [
    "model = KMeans(n_clusters=7, random_state=42, n_jobs=-1)\n",
    "y_pred = model.fit_predict(X_svd)\n",
    "cluster_ids = set(y_pred)\n",
    "\n",
    "min_support = 0.3\n",
    "dist_words = sorted(v for k, v in word_positions.items()) # distinct words in the vocabulary\n",
    "for cluster_id in cluster_ids:\n",
    "    print(f\"FP-Growth results on Cluster {cluster_id} with min support {min_support}\")\n",
    "    tfidf = X_tfidf[y_pred == cluster_id]\n",
    "    # encoded as binary \"presence/absence\" representation as required by mlxtend\n",
    "    tfidf[tfidf > 0] = 1\n",
    "    # df is a pandas sparse dataframe\n",
    "    df = pd.DataFrame.sparse.from_spmatrix(tfidf, columns=dist_words)\n",
    "    fset = fpgrowth(df, min_support=min_support, use_colnames=True).sort_values(by='support', ascending=False)\n",
    "    print(fset, '\\n')"
   ]
  },
  {
   "cell_type": "code",
   "execution_count": null,
   "metadata": {},
   "outputs": [],
   "source": [
    "svd = TruncatedSVD(n_components=2000, random_state=42)\n",
    "X_svd = svd.fit_transform(X_tfidf)\n",
    "\n",
    "cum_variance = np.cumsum(svd.explained_variance_ratio_)\n",
    "idx = np.argmax(cum_variance > .8)\n",
    "svd = TruncatedSVD(n_components=idx, random_state=42)\n",
    "X_svd = svd.fit_transform(X_tfidf)\n",
    "_ = generate_wordclouds(X_svd, X_tfidf, 4, word_positions)"
   ]
  }
 ],
 "metadata": {
  "kernelspec": {
   "display_name": "Python 3",
   "language": "python",
   "name": "python3"
  },
  "language_info": {
   "codemirror_mode": {
    "name": "ipython",
    "version": 3
   },
   "file_extension": ".py",
   "mimetype": "text/x-python",
   "name": "python",
   "nbconvert_exporter": "python",
   "pygments_lexer": "ipython3",
   "version": "3.8.3"
  }
 },
 "nbformat": 4,
 "nbformat_minor": 4
}
