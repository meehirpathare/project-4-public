{
 "cells": [
  {
   "cell_type": "markdown",
   "metadata": {},
   "source": [
    "## <font color='blue'>This Jupyter Notebook covers data acquisition from College Confidential</font>"
   ]
  },
  {
   "cell_type": "code",
   "execution_count": null,
   "metadata": {},
   "outputs": [],
   "source": [
    "# table goes here"
   ]
  },
  {
   "cell_type": "markdown",
   "metadata": {},
   "source": [
    "### 1.1 Importing packages needed to scrape and save serialized data and set College Confidential url"
   ]
  },
  {
   "cell_type": "code",
   "execution_count": 1,
   "metadata": {},
   "outputs": [],
   "source": [
    "from bs4 import BeautifulSoup\n",
    "from datetime import datetime \n",
    "from helpers import bot_policy\n",
    "import json\n",
    "import os\n",
    "import requests\n",
    "import sys"
   ]
  },
  {
   "cell_type": "code",
   "execution_count": 3,
   "metadata": {},
   "outputs": [],
   "source": [
    "cc = 'https://www.collegeconfidential.com'"
   ]
  },
  {
   "cell_type": "markdown",
   "metadata": {},
   "source": [
    "### 1.2 Checking website policy using [bot_policy](helpers.py) function"
   ]
  },
  {
   "cell_type": "code",
   "execution_count": 4,
   "metadata": {},
   "outputs": [
    {
     "name": "stdout",
     "output_type": "stream",
     "text": [
      "User-agent: *\n",
      "\n",
      "Disallow: /cgi-bin\n",
      "\n",
      "Disallow: /wp-admin\n",
      "\n",
      "Disallow: /wp-includes\n",
      "\n",
      "Disallow: /wp-content/plugins\n",
      "\n",
      "Disallow: /wp-content/cache\n",
      "\n",
      "Disallow: /wp-content/themes\n",
      "\n",
      "Disallow: /vibe\n",
      "\n",
      "Disallow: /trackback\n",
      "\n",
      "Disallow: /feed\n",
      "\n",
      "Disallow: /comments\n",
      "\n",
      "Disallow: /category/*/*\n",
      "\n",
      "Disallow: */trackback\n",
      "\n",
      "Disallow: */feed\n",
      "\n",
      "Disallow: */comments\n",
      "\n",
      "Disallow: /*?*\n",
      "\n",
      "Disallow: /*?\n",
      "\n",
      "Disallow:\n",
      "\n",
      "Disallow:\n",
      "\n",
      "Disallow: /\n",
      "\n",
      "Disallow: /\n"
     ]
    }
   ],
   "source": [
    "bot_policy(cc)"
   ]
  },
  {
   "cell_type": "markdown",
   "metadata": {},
   "source": [
    "### 1.3 After navigating to Penn forum, test response and figure out API call structure"
   ]
  },
  {
   "cell_type": "code",
   "execution_count": 7,
   "metadata": {},
   "outputs": [
    {
     "data": {
      "text/plain": [
       "200"
      ]
     },
     "execution_count": 7,
     "metadata": {},
     "output_type": "execute_result"
    }
   ],
   "source": [
    "requests.get('https://talk.collegeconfidential.com/university-pennsylvania/').status_code"
   ]
  },
  {
   "cell_type": "markdown",
   "metadata": {},
   "source": []
  },
  {
   "cell_type": "code",
   "execution_count": null,
   "metadata": {},
   "outputs": [],
   "source": [
    "penn_url = 'https://talk.collegeconfidential.com/university-pennsylvania//p1'"
   ]
  },
  {
   "cell_type": "code",
   "execution_count": null,
   "metadata": {},
   "outputs": [],
   "source": [
    "response = requests.get(penn_url)"
   ]
  },
  {
   "cell_type": "code",
   "execution_count": null,
   "metadata": {},
   "outputs": [],
   "source": [
    "response.status_code"
   ]
  },
  {
   "cell_type": "code",
   "execution_count": null,
   "metadata": {},
   "outputs": [],
   "source": [
    "page = response.text\n",
    "print(page[0:250])"
   ]
  },
  {
   "cell_type": "code",
   "execution_count": null,
   "metadata": {},
   "outputs": [],
   "source": [
    "soup = BeautifulSoup(page, 'html5')"
   ]
  },
  {
   "cell_type": "code",
   "execution_count": null,
   "metadata": {},
   "outputs": [],
   "source": [
    "# by inspection, there are 250 pages\n",
    "page_list = []\n",
    "for i in range(1, 251):\n",
    "    page_list.append('https://talk.collegeconfidential.com/university-pennsylvania//p{}'.format(i))"
   ]
  },
  {
   "cell_type": "code",
   "execution_count": null,
   "metadata": {},
   "outputs": [],
   "source": [
    "def get_one_page_titles(soup):\n",
    "    \"\"\"\n",
    "    This function scrapes the thread titles displayed on one page of results\n",
    "    \n",
    "    \"\"\"\n",
    "    topics_json = []\n",
    "    for div in soup.find_all('div',  class_='Title'):\n",
    "        for link in div.find_all('a'):\n",
    "            topics_json.append({'topic': link.text, \n",
    "                                'url': link.get(\"href\")})\n",
    "    return topics_json"
   ]
  },
  {
   "cell_type": "code",
   "execution_count": null,
   "metadata": {},
   "outputs": [],
   "source": [
    "def get_all_topics(page_list):\n",
    "    count = 1\n",
    "    topics_json = []\n",
    "    \n",
    "    for url in page_list:    \n",
    "        response = requests.get(url)\n",
    "        page = response.text\n",
    "        soup = BeautifulSoup(page, 'html5')\n",
    "        topics_json.append(get_one_page_titles(soup))\n",
    "\n",
    "        if count % 25 == 0:\n",
    "            print(\"Finished page {}\".format(count))\n",
    "        count += 1\n",
    "    topics_json = [item for sublist in topics_json for item in sublist]\n",
    "    return topics_json"
   ]
  },
  {
   "cell_type": "code",
   "execution_count": null,
   "metadata": {},
   "outputs": [],
   "source": [
    "#topics_json = get_all_topics(page_list)\n",
    "\n",
    "#with open(\"penn_topics.json\", 'w', encoding='utf-8') as outfile:\n",
    "    #json.dump(topics_json, outfile)"
   ]
  },
  {
   "cell_type": "code",
   "execution_count": null,
   "metadata": {},
   "outputs": [],
   "source": [
    "with open(\"penn_topics.json\", 'r') as f:\n",
    "    topics_json = json.load(f)\n",
    "    f.close()"
   ]
  },
  {
   "cell_type": "code",
   "execution_count": null,
   "metadata": {},
   "outputs": [],
   "source": [
    "def page_comments(url):\n",
    "    comments = []\n",
    "    \n",
    "    page = requests.get(url, timeout=100).text\n",
    "    soup = BeautifulSoup(page, 'html5')\n",
    "    \n",
    "    dates = []\n",
    "    comments = []\n",
    "    user_id = []\n",
    "    user_names = []\n",
    "    user_thread_count = []\n",
    "    user_comment_count = []\n",
    "    lst = []\n",
    "        \n",
    "    # comment dates broken by time component\n",
    "    for div in soup.find_all('div', class_ =\"Meta Discussion DiscussionInfo\"):\n",
    "        for i in div.find_all('span', class_=\"MItem DateCreated\"):\n",
    "            for j in i.find_all('time'):\n",
    "                split = j.get('title').split()\n",
    "                dates.append({\n",
    "                            'month': split[0],\n",
    "                            'day': split[1],\n",
    "                            'year': split[2],\n",
    "                            'time': split[3]\n",
    "                            })\n",
    "            \n",
    "    # comment text\n",
    "    for div in soup.find_all('div', class_ = \"Message userContent\"):\n",
    "        comments.append(div.text)    \n",
    "    # user name\n",
    "    for div in soup.find_all('div', class_ =\"AuthorWrap\"):\n",
    "        for span in div.find_all('span', class_=\"Author\"):\n",
    "            user_names.append(span.text.replace('\\n', ''))\n",
    "    # user id\n",
    "    for div in soup.find_all('div', class_ =\"AuthorWrap\"):\n",
    "        for i in div.find_all('a'):\n",
    "            user_id.append(i.get(\"data-userid\"))\n",
    "    # user thread count\n",
    "    for div in soup.find_all('div', class_ =\"AuthorWrap\"):\n",
    "        for span in div.find_all('span', class_ = \"MItem CountDiscussions\"):\n",
    "            user_thread_count.append(span.text.split()[0])      \n",
    "    # user comment count\n",
    "    for div in soup.find_all('div', class_ =\"AuthorWrap\"):\n",
    "        for span in div.find_all('span', class_ = \"MItem CountComments\"):\n",
    "            user_comment_count.append(span.text.split()[0])\n",
    "            \n",
    "    # make json\n",
    "    for i in range(0, len(comments)):\n",
    "        lst.append({\n",
    "            'date' :dates[i],\n",
    "            'comment': comments[i],\n",
    "            'user_id': user_id[i],\n",
    "            'user_name': user_names[i],\n",
    "            'user_thread_count': user_thread_count[i],\n",
    "            'user_comment_count': user_comment_count[i],\n",
    "                    })\n",
    "    return lst  "
   ]
  },
  {
   "cell_type": "code",
   "execution_count": null,
   "metadata": {},
   "outputs": [],
   "source": [
    "# return flatten list of length number of comments\n",
    "def topic_comments(url):    \n",
    "    all_comments = []\n",
    "    return_list = []\n",
    "    \n",
    "    i = 1\n",
    "    \n",
    "    base_url = url.split(\".html\")[0]\n",
    "    test_url = base_url + \"-p{}\".format(i) + \".html\"\n",
    "    response = requests.get(test_url, timeout=100)\n",
    "    \n",
    "    while response.status_code != 404:\n",
    "        test_url = base_url + \"-p{}\".format(i) + \".html\"\n",
    "        response = requests.get(test_url, timeout=100)\n",
    "        all_comments.append(page_comments(test_url))\n",
    "        i += 1\n",
    "   \n",
    "    flat_list = [item for sublist in all_comments for item in sublist]\n",
    "    return flat_list\n",
    "    "
   ]
  },
  {
   "cell_type": "code",
   "execution_count": null,
   "metadata": {},
   "outputs": [],
   "source": [
    "def get_forum_comms(topics_json, lower, upper):\n",
    "    forum = []\n",
    "    \n",
    "    i = lower\n",
    "    for topic in topics_json:\n",
    "        start_time = datetime.now()\n",
    "        thread = topic['topic']\n",
    "        url = topic['url']\n",
    "        \n",
    "        try:\n",
    "            forum.append({\n",
    "                        'topic': thread,\n",
    "                        'url': url,\n",
    "                        'comments' : topic_comments(url)\n",
    "                         })\n",
    "        except:\n",
    "            print(\"Thread {} failed\".format(i))\n",
    "            \n",
    "        \n",
    "        time_elapsed = datetime.now() - start_time\n",
    "        print(\"{}: Thread {}:\".format(datetime.now(), i), 'Time elapsed {}(hh:mm:ss.ms)'.format(time_elapsed))\n",
    "\n",
    "        i += 1\n",
    "    \n",
    "    # for windows file structure \n",
    "    filename = os.getcwd() + \"\\\\penn_data\\\\{}_to_{}.json\".format(lower, upper)\n",
    "     \n",
    "    with open(filename, 'w', encoding = 'utf-8') as outfile:\n",
    "        json.dump(forum, outfile)\n",
    "        \n",
    "    print(\"saved {}\".format(filename))"
   ]
  },
  {
   "cell_type": "code",
   "execution_count": null,
   "metadata": {},
   "outputs": [],
   "source": [
    "low = 0\n",
    "high = 100\n",
    "\n",
    "lowers = []\n",
    "uppers = []\n",
    "while low < len(topics_json):\n",
    "    lowers.append(low)\n",
    "    low += 100\n",
    "\n",
    "while high < len(topics_json):\n",
    "    uppers.append(high)\n",
    "    high +=  100"
   ]
  },
  {
   "cell_type": "code",
   "execution_count": null,
   "metadata": {},
   "outputs": [],
   "source": [
    "uppers.append(len(topics_json))"
   ]
  },
  {
   "cell_type": "code",
   "execution_count": null,
   "metadata": {},
   "outputs": [],
   "source": [
    "lims = list(zip(lowers, uppers))"
   ]
  },
  {
   "cell_type": "code",
   "execution_count": null,
   "metadata": {},
   "outputs": [],
   "source": [
    "for i, j in lims:\n",
    "    print(\"get_forum_comms(topics_json[{}:{}], {}, {})\".format(i, j, i, j - 1))"
   ]
  },
  {
   "cell_type": "code",
   "execution_count": null,
   "metadata": {},
   "outputs": [],
   "source": [
    "#get_forum_comms(topics_json[0:99], 0, 99)"
   ]
  },
  {
   "cell_type": "code",
   "execution_count": null,
   "metadata": {},
   "outputs": [],
   "source": [
    "#get_forum_comms(topics_json[100:199], 100, 199)"
   ]
  },
  {
   "cell_type": "code",
   "execution_count": null,
   "metadata": {},
   "outputs": [],
   "source": [
    "#get_forum_comms(topics_json[200:299], 200, 299)"
   ]
  },
  {
   "cell_type": "code",
   "execution_count": null,
   "metadata": {},
   "outputs": [],
   "source": [
    "#get_forum_comms(topics_json[300:399], 300, 399)"
   ]
  },
  {
   "cell_type": "code",
   "execution_count": null,
   "metadata": {},
   "outputs": [],
   "source": [
    "len(topics_json[0:100])"
   ]
  },
  {
   "cell_type": "code",
   "execution_count": null,
   "metadata": {},
   "outputs": [],
   "source": [
    "#get_forum_comms(topics_json[400:500], 400, 500)"
   ]
  },
  {
   "cell_type": "code",
   "execution_count": null,
   "metadata": {},
   "outputs": [],
   "source": [
    "#get_forum_comms(topics_json[500:600], 500, 600)"
   ]
  },
  {
   "cell_type": "code",
   "execution_count": null,
   "metadata": {},
   "outputs": [],
   "source": [
    "#get_forum_comms(topics_json[600:700], 600, 700)"
   ]
  },
  {
   "cell_type": "code",
   "execution_count": null,
   "metadata": {},
   "outputs": [],
   "source": [
    "#get_forum_comms(topics_json[700:800], 700, 800)"
   ]
  },
  {
   "cell_type": "code",
   "execution_count": null,
   "metadata": {},
   "outputs": [],
   "source": [
    "#get_forum_comms(topics_json[800:900], 800, 900)"
   ]
  },
  {
   "cell_type": "code",
   "execution_count": null,
   "metadata": {},
   "outputs": [],
   "source": [
    "#get_forum_comms(topics_json[900:1000], 900, 1000)"
   ]
  },
  {
   "cell_type": "code",
   "execution_count": null,
   "metadata": {},
   "outputs": [],
   "source": [
    "#get_forum_comms(topics_json[1000:1100], 1000, 1100)"
   ]
  },
  {
   "cell_type": "code",
   "execution_count": null,
   "metadata": {},
   "outputs": [],
   "source": [
    "#get_forum_comms(topics_json[1100:1200], 1100, 1200)"
   ]
  },
  {
   "cell_type": "code",
   "execution_count": null,
   "metadata": {},
   "outputs": [],
   "source": [
    "#get_forum_comms(topics_json[1200:1300], 1200, 1300)"
   ]
  },
  {
   "cell_type": "code",
   "execution_count": null,
   "metadata": {},
   "outputs": [],
   "source": [
    "#get_forum_comms(topics_json[1300:1400], 1300, 1400)"
   ]
  },
  {
   "cell_type": "code",
   "execution_count": null,
   "metadata": {},
   "outputs": [],
   "source": [
    "#get_forum_comms(topics_json[1400:1500], 1400, 1500)"
   ]
  },
  {
   "cell_type": "code",
   "execution_count": null,
   "metadata": {},
   "outputs": [],
   "source": [
    "#get_forum_comms(topics_json[1500:1600], 1500, 1600)"
   ]
  },
  {
   "cell_type": "code",
   "execution_count": null,
   "metadata": {},
   "outputs": [],
   "source": [
    "#get_forum_comms(topics_json[1600:1700], 1600, 1700)"
   ]
  },
  {
   "cell_type": "code",
   "execution_count": null,
   "metadata": {},
   "outputs": [],
   "source": [
    "#get_forum_comms(topics_json[1700:1800], 1700, 1800)"
   ]
  },
  {
   "cell_type": "code",
   "execution_count": null,
   "metadata": {},
   "outputs": [],
   "source": [
    "#get_forum_comms(topics_json[1800:1900], 1800, 1900)"
   ]
  },
  {
   "cell_type": "code",
   "execution_count": null,
   "metadata": {},
   "outputs": [],
   "source": [
    "#get_forum_comms(topics_json[1900:2000], 1900, 2000)"
   ]
  },
  {
   "cell_type": "code",
   "execution_count": null,
   "metadata": {},
   "outputs": [],
   "source": [
    "#get_forum_comms(topics_json[2000:2100], 2000, 2100)"
   ]
  },
  {
   "cell_type": "code",
   "execution_count": null,
   "metadata": {},
   "outputs": [],
   "source": [
    "#get_forum_comms(topics_json[2100:2200], 2100, 2200)"
   ]
  },
  {
   "cell_type": "code",
   "execution_count": null,
   "metadata": {},
   "outputs": [],
   "source": [
    "#get_forum_comms(topics_json[2200:2300], 2200, 2300)"
   ]
  },
  {
   "cell_type": "code",
   "execution_count": null,
   "metadata": {},
   "outputs": [],
   "source": [
    "#get_forum_comms(topics_json[2300:2400], 2300, 2400)"
   ]
  },
  {
   "cell_type": "code",
   "execution_count": null,
   "metadata": {},
   "outputs": [],
   "source": [
    "#get_forum_comms(topics_json[2400:2500], 2400, 2500)"
   ]
  },
  {
   "cell_type": "code",
   "execution_count": null,
   "metadata": {},
   "outputs": [],
   "source": [
    "#get_forum_comms(topics_json[2500:2600], 2500, 2600)"
   ]
  },
  {
   "cell_type": "code",
   "execution_count": null,
   "metadata": {},
   "outputs": [],
   "source": [
    "#get_forum_comms(topics_json[2600:2700], 2600, 2700)"
   ]
  },
  {
   "cell_type": "code",
   "execution_count": null,
   "metadata": {},
   "outputs": [],
   "source": [
    "#get_forum_comms(topics_json[2700:2800], 2700, 2800)"
   ]
  },
  {
   "cell_type": "code",
   "execution_count": null,
   "metadata": {},
   "outputs": [],
   "source": [
    "#get_forum_comms(topics_json[2800:2900], 2800, 2900)"
   ]
  },
  {
   "cell_type": "code",
   "execution_count": null,
   "metadata": {},
   "outputs": [],
   "source": [
    "#get_forum_comms(topics_json[2900:3000], 2900, 3000)"
   ]
  },
  {
   "cell_type": "code",
   "execution_count": null,
   "metadata": {},
   "outputs": [],
   "source": [
    "#get_forum_comms(topics_json[3000:3100], 3000, 3100)"
   ]
  },
  {
   "cell_type": "code",
   "execution_count": null,
   "metadata": {},
   "outputs": [],
   "source": [
    "#get_forum_comms(topics_json[3100:3200], 3100, 3200)"
   ]
  },
  {
   "cell_type": "code",
   "execution_count": null,
   "metadata": {},
   "outputs": [],
   "source": [
    "#get_forum_comms(topics_json[3200:3300], 3200, 3300)"
   ]
  },
  {
   "cell_type": "code",
   "execution_count": null,
   "metadata": {},
   "outputs": [],
   "source": [
    "#get_forum_comms(topics_json[3300:3400], 3300, 3400)"
   ]
  },
  {
   "cell_type": "code",
   "execution_count": null,
   "metadata": {},
   "outputs": [],
   "source": [
    "#get_forum_comms(topics_json[3400:3500], 3400, 3500)"
   ]
  },
  {
   "cell_type": "code",
   "execution_count": null,
   "metadata": {},
   "outputs": [],
   "source": [
    "#get_forum_comms(topics_json[3500:3600], 3500, 3600)"
   ]
  },
  {
   "cell_type": "code",
   "execution_count": null,
   "metadata": {},
   "outputs": [],
   "source": [
    "#get_forum_comms(topics_json[3600:3700], 3600, 3700)"
   ]
  },
  {
   "cell_type": "code",
   "execution_count": null,
   "metadata": {},
   "outputs": [],
   "source": [
    "#get_forum_comms(topics_json[3700:3800], 3700, 3800)"
   ]
  },
  {
   "cell_type": "code",
   "execution_count": null,
   "metadata": {},
   "outputs": [],
   "source": [
    "#get_forum_comms(topics_json[3800:3900], 3800, 3900)"
   ]
  },
  {
   "cell_type": "code",
   "execution_count": null,
   "metadata": {},
   "outputs": [],
   "source": [
    "#get_forum_comms(topics_json[3900:4000], 3900, 4000)"
   ]
  },
  {
   "cell_type": "code",
   "execution_count": null,
   "metadata": {},
   "outputs": [],
   "source": [
    "#get_forum_comms(topics_json[4000:4100], 4000, 4100)"
   ]
  },
  {
   "cell_type": "code",
   "execution_count": null,
   "metadata": {},
   "outputs": [],
   "source": [
    "#get_forum_comms(topics_json[4100:4200], 4100, 4200)"
   ]
  },
  {
   "cell_type": "code",
   "execution_count": null,
   "metadata": {},
   "outputs": [],
   "source": [
    "#get_forum_comms(topics_json[4200:4300], 4200, 4300)"
   ]
  },
  {
   "cell_type": "code",
   "execution_count": null,
   "metadata": {},
   "outputs": [],
   "source": [
    "#get_forum_comms(topics_json[4300:4400], 4300, 4400)"
   ]
  },
  {
   "cell_type": "code",
   "execution_count": null,
   "metadata": {},
   "outputs": [],
   "source": [
    "#get_forum_comms(topics_json[4400:4500], 4400, 4500)"
   ]
  },
  {
   "cell_type": "code",
   "execution_count": null,
   "metadata": {},
   "outputs": [],
   "source": [
    "#get_forum_comms(topics_json[4500:4600], 4500, 4600)"
   ]
  },
  {
   "cell_type": "code",
   "execution_count": null,
   "metadata": {},
   "outputs": [],
   "source": [
    "#get_forum_comms(topics_json[4600:4700], 4600, 4700)"
   ]
  },
  {
   "cell_type": "code",
   "execution_count": null,
   "metadata": {},
   "outputs": [],
   "source": [
    "#get_forum_comms(topics_json[4700:4800], 4700, 4800)"
   ]
  },
  {
   "cell_type": "code",
   "execution_count": null,
   "metadata": {},
   "outputs": [],
   "source": [
    "#get_forum_comms(topics_json[4800:4900], 4800, 4900)"
   ]
  },
  {
   "cell_type": "code",
   "execution_count": null,
   "metadata": {},
   "outputs": [],
   "source": [
    "#get_forum_comms(topics_json[4900:4993], 4900, 4993)"
   ]
  },
  {
   "cell_type": "code",
   "execution_count": null,
   "metadata": {},
   "outputs": [],
   "source": []
  }
 ],
 "metadata": {
  "kernelspec": {
   "display_name": "Python 3",
   "language": "python",
   "name": "python3"
  },
  "language_info": {
   "codemirror_mode": {
    "name": "ipython",
    "version": 3
   },
   "file_extension": ".py",
   "mimetype": "text/x-python",
   "name": "python",
   "nbconvert_exporter": "python",
   "pygments_lexer": "ipython3",
   "version": "3.8.3"
  }
 },
 "nbformat": 4,
 "nbformat_minor": 4
}
