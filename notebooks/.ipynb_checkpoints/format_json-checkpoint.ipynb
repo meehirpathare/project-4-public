{
 "cells": [
  {
   "cell_type": "code",
   "execution_count": 1,
   "metadata": {},
   "outputs": [],
   "source": [
    "import json\n",
    "import os\n",
    "import csv"
   ]
  },
  {
   "cell_type": "code",
   "execution_count": 2,
   "metadata": {},
   "outputs": [],
   "source": [
    "combined = []"
   ]
  },
  {
   "cell_type": "code",
   "execution_count": 3,
   "metadata": {},
   "outputs": [
    {
     "data": {
      "text/plain": [
       "'C:\\\\Users\\\\Meehir\\\\Documents\\\\GitHub\\\\project-4\\\\project-4'"
      ]
     },
     "execution_count": 3,
     "metadata": {},
     "output_type": "execute_result"
    }
   ],
   "source": [
    "os.getcwd()"
   ]
  },
  {
   "cell_type": "code",
   "execution_count": 4,
   "metadata": {},
   "outputs": [
    {
     "name": "stdout",
     "output_type": "stream",
     "text": [
      "C:\\Users\\Meehir\\Documents\\GitHub\\project-4\\project-4\\penn_data\\1.json\n",
      "C:\\Users\\Meehir\\Documents\\GitHub\\project-4\\project-4\\penn_data\\2.json\n",
      "C:\\Users\\Meehir\\Documents\\GitHub\\project-4\\project-4\\penn_data\\3.json\n",
      "C:\\Users\\Meehir\\Documents\\GitHub\\project-4\\project-4\\penn_data\\4.json\n",
      "C:\\Users\\Meehir\\Documents\\GitHub\\project-4\\project-4\\penn_data\\5.json\n",
      "C:\\Users\\Meehir\\Documents\\GitHub\\project-4\\project-4\\penn_data\\6.json\n",
      "C:\\Users\\Meehir\\Documents\\GitHub\\project-4\\project-4\\penn_data\\7.json\n",
      "C:\\Users\\Meehir\\Documents\\GitHub\\project-4\\project-4\\penn_data\\8.json\n",
      "C:\\Users\\Meehir\\Documents\\GitHub\\project-4\\project-4\\penn_data\\9.json\n",
      "C:\\Users\\Meehir\\Documents\\GitHub\\project-4\\project-4\\penn_data\\10.json\n",
      "C:\\Users\\Meehir\\Documents\\GitHub\\project-4\\project-4\\penn_data\\11.json\n",
      "C:\\Users\\Meehir\\Documents\\GitHub\\project-4\\project-4\\penn_data\\12.json\n",
      "C:\\Users\\Meehir\\Documents\\GitHub\\project-4\\project-4\\penn_data\\13.json\n",
      "C:\\Users\\Meehir\\Documents\\GitHub\\project-4\\project-4\\penn_data\\14.json\n",
      "C:\\Users\\Meehir\\Documents\\GitHub\\project-4\\project-4\\penn_data\\15.json\n",
      "C:\\Users\\Meehir\\Documents\\GitHub\\project-4\\project-4\\penn_data\\16.json\n",
      "C:\\Users\\Meehir\\Documents\\GitHub\\project-4\\project-4\\penn_data\\17.json\n",
      "C:\\Users\\Meehir\\Documents\\GitHub\\project-4\\project-4\\penn_data\\18.json\n",
      "C:\\Users\\Meehir\\Documents\\GitHub\\project-4\\project-4\\penn_data\\19.json\n",
      "C:\\Users\\Meehir\\Documents\\GitHub\\project-4\\project-4\\penn_data\\20.json\n"
     ]
    }
   ],
   "source": [
    "filenames = []\n",
    "for i in range(1, 21):\n",
    "    filenames.append(os.getcwd() + '\\\\penn_data\\\\{}.json'.format(i))\n",
    "    print(os.getcwd() + '\\\\penn_data\\\\{}.json'.format(i))"
   ]
  },
  {
   "cell_type": "code",
   "execution_count": 5,
   "metadata": {},
   "outputs": [],
   "source": [
    "for file in filenames:\n",
    "    with open(file) as outfile:\n",
    "        combined.append(json.load(outfile))"
   ]
  },
  {
   "cell_type": "code",
   "execution_count": 6,
   "metadata": {},
   "outputs": [
    {
     "data": {
      "text/plain": [
       "20"
      ]
     },
     "execution_count": 6,
     "metadata": {},
     "output_type": "execute_result"
    }
   ],
   "source": [
    "len(combined)"
   ]
  },
  {
   "cell_type": "code",
   "execution_count": 7,
   "metadata": {},
   "outputs": [],
   "source": [
    "flat_list = [item for sublist in combined for item in sublist]"
   ]
  },
  {
   "cell_type": "code",
   "execution_count": 8,
   "metadata": {},
   "outputs": [
    {
     "data": {
      "text/plain": [
       "1944"
      ]
     },
     "execution_count": 8,
     "metadata": {},
     "output_type": "execute_result"
    }
   ],
   "source": [
    "len(flat_list)"
   ]
  },
  {
   "cell_type": "code",
   "execution_count": 9,
   "metadata": {},
   "outputs": [],
   "source": [
    "with open('combined_2000.json', 'w', encoding = 'utf-8') as outfile:\n",
    "    json.dump(flat_list, outfile)"
   ]
  },
  {
   "cell_type": "code",
   "execution_count": 10,
   "metadata": {},
   "outputs": [],
   "source": [
    "all_comments = []\n",
    "all_topics = []\n",
    "\n",
    "for thread in flat_list:\n",
    "    all_topics.append(thread['topic'])\n",
    "    for comment in thread['comments']:\n",
    "        all_comments.append(comment['comment'])"
   ]
  },
  {
   "cell_type": "code",
   "execution_count": 11,
   "metadata": {},
   "outputs": [
    {
     "data": {
      "text/plain": [
       "16451"
      ]
     },
     "execution_count": 11,
     "metadata": {},
     "output_type": "execute_result"
    }
   ],
   "source": [
    "len(all_comments)"
   ]
  },
  {
   "cell_type": "code",
   "execution_count": 12,
   "metadata": {},
   "outputs": [
    {
     "data": {
      "text/plain": [
       "1944"
      ]
     },
     "execution_count": 12,
     "metadata": {},
     "output_type": "execute_result"
    }
   ],
   "source": [
    "len(all_topics)"
   ]
  },
  {
   "cell_type": "code",
   "execution_count": 13,
   "metadata": {},
   "outputs": [],
   "source": [
    "with open('all_comments.csv', 'w', encoding = 'utf-8') as f:\n",
    "    write = csv.writer(f) \n",
    "    write.writerow(all_comments) "
   ]
  },
  {
   "cell_type": "code",
   "execution_count": 14,
   "metadata": {},
   "outputs": [],
   "source": [
    "with open('all_topics.csv', 'w', encoding = 'utf-8') as f:\n",
    "    write = csv.writer(f) \n",
    "    write.writerow(all_topics) "
   ]
  }
 ],
 "metadata": {
  "kernelspec": {
   "display_name": "Python 3",
   "language": "python",
   "name": "python3"
  },
  "language_info": {
   "codemirror_mode": {
    "name": "ipython",
    "version": 3
   },
   "file_extension": ".py",
   "mimetype": "text/x-python",
   "name": "python",
   "nbconvert_exporter": "python",
   "pygments_lexer": "ipython3",
   "version": "3.8.3"
  }
 },
 "nbformat": 4,
 "nbformat_minor": 4
}
